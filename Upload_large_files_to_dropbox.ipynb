{
 "cells": [
  {
   "cell_type": "code",
   "execution_count": 6,
   "metadata": {},
   "outputs": [],
   "source": [
    "import dropbox\n",
    "import os"
   ]
  },
  {
   "cell_type": "code",
   "execution_count": 2,
   "metadata": {},
   "outputs": [],
   "source": [
    "dbx = dropbox.Dropbox('uv3oFVfWXVAAAAAAAAAAavmtgtvKw1wKLpu2TVhQv-seUcWGIXZ17enB2HqHcjEM')"
   ]
  },
  {
   "cell_type": "code",
   "execution_count": 6,
   "metadata": {},
   "outputs": [],
   "source": [
    "#f = open('/mnt/d/Dropbox/ARPES_PC/Plots/SNO_Mar2019.pxp', 'rb')\n",
    "#file_size = os.path.getsize('/mnt/d/Dropbox/ARPES_PC/Plots/SNO_Mar2019.pxp')\n",
    "\n",
    "#f = open('/mnt/d/Dropbox/ARPES_PC/Plots/Bi2Se3_201806.pxp', 'rb')\n",
    "#file_size = os.path.getsize('/mnt/d/Dropbox/ARPES_PC/Plots/Bi2Se3_201806.pxp')\n",
    "\n",
    "f = open('/Users/Pranab/Dropbox/Shared/ARPES_PC/Plots/Bi2Se3_201806.pxp', 'rb')\n",
    "file_size = os.path.getsize('/Users/Pranab/Dropbox/Shared/ARPES_PC/Plots/Bi2Se3_201806.pxp')\n",
    "\n",
    "CHUNK_SIZE = 100 * 1024 * 1024\n",
    "\n",
    "if file_size <= CHUNK_SIZE:\n",
    "    dbx.files_upload(f.read(), '/ARPES_Data/large_data.bin', mode=dropbox.files.WriteMode.overwrite)\n",
    "\n",
    "else:\n",
    "    upload_session_start_result = dbx.files_upload_session_start(f.read(CHUNK_SIZE))\n",
    "    cursor = dropbox.files.UploadSessionCursor(session_id=upload_session_start_result.session_id, offset=f.tell())\n",
    "    commit = dropbox.files.CommitInfo(path=\"/ARPES_Data/large_data.bin\", mode=dropbox.files.WriteMode.overwrite)\n",
    "\n",
    "    while f.tell() < file_size:\n",
    "        if ((file_size - f.tell()) <= CHUNK_SIZE):\n",
    "            dbx.files_upload_session_finish(f.read(CHUNK_SIZE), cursor, commit)\n",
    "        else:\n",
    "            dbx.files_upload_session_append(f.read(CHUNK_SIZE), cursor.session_id, cursor.offset)\n",
    "            cursor.offset = f.tell()\n",
    "f.close()"
   ]
  },
  {
   "cell_type": "code",
   "execution_count": 1,
   "metadata": {},
   "outputs": [],
   "source": [
    "f = open('/Users/Pranab/Dropbox/Shared/ARPES_PC/Plots/Bi2Se3_201806.pxp', 'rb')"
   ]
  },
  {
   "cell_type": "code",
   "execution_count": 2,
   "metadata": {},
   "outputs": [],
   "source": [
    "fd = f.read()"
   ]
  },
  {
   "cell_type": "code",
   "execution_count": 3,
   "metadata": {},
   "outputs": [
    {
     "data": {
      "text/plain": [
       "bytes"
      ]
     },
     "execution_count": 3,
     "metadata": {},
     "output_type": "execute_result"
    }
   ],
   "source": [
    "type(fd)"
   ]
  },
  {
   "cell_type": "code",
   "execution_count": 4,
   "metadata": {},
   "outputs": [
    {
     "data": {
      "text/plain": [
       "92706304"
      ]
     },
     "execution_count": 4,
     "metadata": {},
     "output_type": "execute_result"
    }
   ],
   "source": [
    "len(fd)"
   ]
  },
  {
   "cell_type": "code",
   "execution_count": 8,
   "metadata": {},
   "outputs": [
    {
     "data": {
      "text/plain": [
       "92706304"
      ]
     },
     "execution_count": 8,
     "metadata": {},
     "output_type": "execute_result"
    }
   ],
   "source": [
    "os.path.getsize('/Users/Pranab/Dropbox/Shared/ARPES_PC/Plots/Bi2Se3_201806.pxp')"
   ]
  },
  {
   "cell_type": "code",
   "execution_count": 10,
   "metadata": {},
   "outputs": [
    {
     "data": {
      "text/plain": [
       "92706304"
      ]
     },
     "execution_count": 10,
     "metadata": {},
     "output_type": "execute_result"
    }
   ],
   "source": [
    "f.tell()"
   ]
  },
  {
   "cell_type": "code",
   "execution_count": 11,
   "metadata": {},
   "outputs": [
    {
     "data": {
      "text/plain": [
       "_io.BufferedReader"
      ]
     },
     "execution_count": 11,
     "metadata": {},
     "output_type": "execute_result"
    }
   ],
   "source": [
    "type(f)"
   ]
  },
  {
   "cell_type": "code",
   "execution_count": null,
   "metadata": {},
   "outputs": [],
   "source": []
  }
 ],
 "metadata": {
  "kernelspec": {
   "display_name": "Python 3",
   "language": "python",
   "name": "python3"
  },
  "language_info": {
   "codemirror_mode": {
    "name": "ipython",
    "version": 3
   },
   "file_extension": ".py",
   "mimetype": "text/x-python",
   "name": "python",
   "nbconvert_exporter": "python",
   "pygments_lexer": "ipython3",
   "version": "3.7.3"
  }
 },
 "nbformat": 4,
 "nbformat_minor": 2
}
